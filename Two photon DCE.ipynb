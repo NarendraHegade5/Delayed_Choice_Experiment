{
 "cells": [
  {
   "cell_type": "markdown",
   "metadata": {},
   "source": [
    " # Two photon DCE\n",
    "## Simealtaneously observing wave and particle nature of two entangled photons in two different interferometers.\n",
    "Two entangled photons are produced and are sent to two different interferometers(q[0] and q[1]). The initial state is given by \n",
    "_|00>+|11>_/$\\sqrt{2}$. Two U1 gates are the phase shifters providing the phase $\\phi$. The top interferometer is always closed and the bottom interferometer, if open or close, is decided by ancilla which has a U3 gate. To simealtaneously observe the wave and particle nature, we produce ancilla state(using U3) as $$\\psi_1=sin\\alpha|1> + cos\\alpha|0>$$ so the resultant state comes out to be\n",
    "$$\\Psi=sin\\alpha|w>|1> + cos\\alpha|p>|0>$$. where $$ |w>=\\frac{1}{\\sqrt{2}}e^{\\iota\\frac{\\phi}{2}}(cos\\frac{\\phi}{2}|00>- \\iota sin\\frac{\\phi}{2}|01> + \\iota sin\\frac{\\phi}{2}|10> + cos\\frac{\\phi}{2}|11>$$ ) and $$|p> = \\frac{1}{2}( |00> + |01> + e^{\\iota\\phi}|10> + e^{\\iota\\phi}|11>$$. So depending upon $\\alpha$ and $\\phi$ it can behave as a wave or a particle or both. So by varying the ancilla paramater $\\alpha$ we study the smooth transition between the wave-like and particle-like nature of two entangled photons."
   ]
  },
  {
   "cell_type": "code",
   "execution_count": 49,
   "metadata": {},
   "outputs": [
    {
     "name": "stderr",
     "output_type": "stream",
     "text": [
      "Credentials are already in use. The existing account in the session will be replaced.\n"
     ]
    }
   ],
   "source": [
    "# Two photon DCE\n",
    "import numpy\n",
    "import numpy as np\n",
    "from qiskit import QuantumCircuit, ClassicalRegister, QuantumRegister\n",
    "from qiskit import execute\n",
    "from qiskit import IBMQ, Aer\n",
    "from math import pi\n",
    "from qiskit.tools.monitor import job_monitor\n",
    "from qiskit.tools.visualization import plot_histogram\n",
    "provider = IBMQ.load_account()\n"
   ]
  },
  {
   "cell_type": "code",
   "execution_count": 43,
   "metadata": {},
   "outputs": [],
   "source": [
    "# Create a Quantum Circuit acting on the q register\n",
    "## This Experiment is used to observe the simealtaneous wave and particle nature of the two entangledd photons\n",
    "alpha = [0,pi/8, pi/4, 3*pi/8, pi/2]\n",
    "phi = np.arange(0,21*pi /10,pi/10)\n",
    "#alpha1, phi1 =np.meshgrid(alpha,phi)\n",
    "phi1, alpha1 = np.meshgrid(phi, alpha)\n",
    "X = alpha1\n",
    "Y = phi1\n",
    "\n",
    "count_list1=[]\n",
    "count_list=[]\n",
    "\n",
    "for y in alpha:\n",
    "    for x in np.arange(0,21*pi/10,pi/10):\n",
    "        c = ClassicalRegister (2, 'c')\n",
    "        q = QuantumRegister(3, 'q')\n",
    "        qc = QuantumCircuit(q,c)\n",
    "        qc.h(q[0])\n",
    "        qc.u3(2*y,0,0,q[2])\n",
    "        qc.cx(q[0],q[1]) \n",
    "        qc.u1(x,q[0])\n",
    "        qc.u1(x,q[1])    \n",
    "        qc.ch(q[2],q[1])\n",
    "        qc.h(q[0])\n",
    "        \n",
    "        qc.measure(q[0], c[0])\n",
    "        qc.measure(q[1], c[1])\n",
    "        #backend = provider.get_backend('ibmq_qasm_simulator')\n",
    "        backend = Aer.get_backend('qasm_simulator')\n",
    "        shots=8192\n",
    "        # Compile and run the Quantum Program on a real device backend\n",
    "        job_exp = execute(qc, backend=backend, shots=8192)\n",
    "        result = job_exp.result()\n",
    "        #print(result.get_counts(qc))\n",
    "        counts=result.get_counts(qc)\n",
    "        if '00' in list(counts):\n",
    "            count_list1.append(counts['00']/shots)   \n",
    "        else:\n",
    "            count_list1.append(0)\n",
    "            \n",
    "    count_list.append(count_list1)\n",
    "    count_list1=[]\n",
    "   \n",
    "    "
   ]
  },
  {
   "cell_type": "code",
   "execution_count": 45,
   "metadata": {},
   "outputs": [
    {
     "data": {
      "image/png": "[encoded data removed]",
      "text/plain": [
       "<Figure size 432x288 with 2 Axes>"
      ]
     },
     "metadata": {
      "needs_background": "light"
     },
     "output_type": "display_data"
    },
    {
     "data": {
      "text/html": [
       "<pre style=\"word-wrap: normal;white-space: pre;background: #fff0;line-height: 1.1;font-family: &quot;Courier New&quot;,Courier,monospace\">            ┌───┐          ┌─────────┐┌───┐┌─┐   \n",
       "q_0: |0>────┤ H ├───────■──┤ U1(2pi) ├┤ H ├┤M├───\n",
       "            └───┘     ┌─┴─┐├─────────┤├───┤└╥┘┌─┐\n",
       "q_1: |0>──────────────┤ X ├┤ U1(2pi) ├┤ H ├─╫─┤M├\n",
       "        ┌────────────┐└───┘└─────────┘└─┬─┘ ║ └╥┘\n",
       "q_2: |0>┤ U3(pi,0,0) ├──────────────────■───╫──╫─\n",
       "        └────────────┘                      ║  ║ \n",
       " c_0: 0 ════════════════════════════════════╩══╬═\n",
       "                                               ║ \n",
       " c_1: 0 ═══════════════════════════════════════╩═\n",
       "                                                 </pre>"
      ],
      "text/plain": [
       "<qiskit.visualization.text.TextDrawing at 0x21cbfa36ba8>"
      ]
     },
     "execution_count": 45,
     "metadata": {},
     "output_type": "execute_result"
    }
   ],
   "source": [
    "# import matplotlib.pyplot as plt\n",
    "plt.contourf(X, Y, count_list, 14)\n",
    "#plt.contourf(X, Y, Fidelity_list2, 15)\n",
    "\n",
    "cbar=plt.colorbar()\n",
    "cbar.set_label('Intensity', size=15)\n",
    "plt.xlabel(\"phi\", color=\"black\",size=14)\n",
    "plt.ylabel(\"alpha\", color='black',size=14)\n",
    "#plt.savefig('DCE.png', dpi=600)\n",
    "plt.show()\n",
    "qc.draw()"
   ]
  },
  {
   "cell_type": "code",
   "execution_count": null,
   "metadata": {},
   "outputs": [],
   "source": []
  },
  {
   "cell_type": "code",
   "execution_count": null,
   "metadata": {},
   "outputs": [],
   "source": []
  }
 ],
 "metadata": {
  "kernelspec": {
   "display_name": "Python 3",
   "language": "python",
   "name": "python3"
  },
  "language_info": {
   "codemirror_mode": {
    "name": "ipython",
    "version": 3
   },
   "file_extension": ".py",
   "mimetype": "text/x-python",
   "name": "python",
   "nbconvert_exporter": "python",
   "pygments_lexer": "ipython3",
   "version": "3.7.3"
  }
 },
 "nbformat": 4,
 "nbformat_minor": 2
}
